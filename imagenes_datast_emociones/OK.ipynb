{
 "cells": [
  {
   "cell_type": "code",
   "execution_count": 4,
   "metadata": {},
   "outputs": [
    {
     "name": "stdout",
     "output_type": "stream",
     "text": [
      "https://api.unsplash.com/search/photos?query=felicidad rostros&client_id=bKr026htr_qjTnSGarDICoRKPNuepDjgoeysegYwOgw&per_page=200\n",
      "Downloaded felicidad rostros_1.jpg\n",
      "Downloaded felicidad rostros_2.jpg\n",
      "Downloaded felicidad rostros_3.jpg\n",
      "Downloaded felicidad rostros_4.jpg\n",
      "Downloaded felicidad rostros_5.jpg\n",
      "Downloaded felicidad rostros_6.jpg\n",
      "Downloaded felicidad rostros_7.jpg\n",
      "Downloaded felicidad rostros_8.jpg\n",
      "Downloaded felicidad rostros_9.jpg\n",
      "Downloaded felicidad rostros_10.jpg\n"
     ]
    }
   ],
   "source": [
    "import requests\n",
    "import os\n",
    "\n",
    "# Tu clave de acceso de la API de Unsplash\n",
    "access_key = 'bKr026htr_qjTnSGarDICoRKPNuepDjgoeysegYwOgw'\n",
    "\n",
    "def download_images(query, num_images=10):\n",
    "    url = f'https://api.unsplash.com/search/photos?query={query}&client_id={access_key}&per_page={num_images}'\n",
    "    print (url)\n",
    "    response = requests.get(url)\n",
    "    data = response.json()\n",
    "    \n",
    "    if not os.path.exists('images'):\n",
    "        os.makedirs('images')\n",
    "    \n",
    "    for i, photo in enumerate(data['results']):\n",
    "        image_url = photo['urls']['regular']\n",
    "        img_data = requests.get(image_url).content\n",
    "        with open(f'images/{query}_{i+1}.jpg', 'wb') as handler:\n",
    "            handler.write(img_data)\n",
    "        print(f\"Downloaded {query}_{i+1}.jpg\")\n",
    "\n",
    "# Uso del código para descargar imágenes de \"cara feliz\"\n",
    "download_images('felicidad rostros', num_images=200)"
   ]
  }
 ],
 "metadata": {
  "kernelspec": {
   "display_name": "IA_UCC",
   "language": "python",
   "name": "python3"
  },
  "language_info": {
   "codemirror_mode": {
    "name": "ipython",
    "version": 3
   },
   "file_extension": ".py",
   "mimetype": "text/x-python",
   "name": "python",
   "nbconvert_exporter": "python",
   "pygments_lexer": "ipython3",
   "version": "3.8.18"
  }
 },
 "nbformat": 4,
 "nbformat_minor": 2
}
